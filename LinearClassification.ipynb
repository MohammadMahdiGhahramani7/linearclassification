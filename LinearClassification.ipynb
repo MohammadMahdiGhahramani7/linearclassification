{
  "nbformat": 4,
  "nbformat_minor": 0,
  "metadata": {
    "colab": {
      "name": "Tamrin_LinearClassification.ipynb",
      "provenance": [],
      "collapsed_sections": [
        "_o3MLRKG6fAS",
        "8ziZzgvo6uVl",
        "PVSpVFVf6yn9",
        "Lw01_ONW61rE",
        "0hBwjKQj6_jE"
      ]
    },
    "kernelspec": {
      "name": "python3",
      "display_name": "Python 3"
    },
    "language_info": {
      "name": "python"
    }
  },
  "cells": [
    {
      "cell_type": "markdown",
      "metadata": {
        "id": "_o3MLRKG6fAS"
      },
      "source": [
        "#Standard Imports"
      ]
    },
    {
      "cell_type": "code",
      "metadata": {
        "id": "pLbr0bmu6iY6"
      },
      "source": [
        "import torch\n",
        "import torch.nn as nn\n",
        "import torch.nn.functional as F\n",
        "from torch.utils.data import Dataset, DataLoader\n",
        "import pandas as pd\n",
        "import numpy as np\n",
        "import matplotlib\n",
        "import matplotlib.pyplot as plt\n",
        "import seaborn as sns\n",
        "import glob\n",
        "from PIL import Image\n",
        "import os"
      ],
      "execution_count": 28,
      "outputs": []
    },
    {
      "cell_type": "markdown",
      "metadata": {
        "id": "8ziZzgvo6uVl"
      },
      "source": [
        "#Create Dataset"
      ]
    },
    {
      "cell_type": "code",
      "metadata": {
        "id": "XFfznblEFaZS"
      },
      "source": [
        "class dataset(Dataset):\n",
        "\n",
        "  def __init__(self, df, **kw):\n",
        "\n",
        "    super(dataset, self).__init__(**kw)\n",
        "\n",
        "    self.data = []\n",
        "\n",
        "    for row in range(len(df)):\n",
        "\n",
        "      data = df.iloc[row, :2]\n",
        "      label = df.iloc[row, -1]\n",
        "\n",
        "      self.data.append((torch.tensor(data, dtype=torch.float32), torch.tensor([label], dtype=torch.float32)))\n",
        "\n",
        "  def __len__(self):\n",
        "\n",
        "    return len(self.data)\n",
        "\n",
        "  def __getitem__(self, idx):\n",
        "\n",
        "    d, l = self.data[idx]\n",
        "\n",
        "    return d, l"
      ],
      "execution_count": 29,
      "outputs": []
    },
    {
      "cell_type": "markdown",
      "metadata": {
        "id": "PVSpVFVf6yn9"
      },
      "source": [
        "#Model Architecture"
      ]
    },
    {
      "cell_type": "code",
      "metadata": {
        "id": "FyCmJs7SAZpK"
      },
      "source": [
        "class linear_classification(Dataset, nn.Module):\n",
        "\n",
        "  def __init__(self, input_dim):\n",
        "\n",
        "    super(linear_classification, self).__init__()\n",
        "\n",
        "    self.input_dim = input_dim\n",
        "\n",
        "    self.fc = nn.Linear(self.input_dim, 1)\n",
        "\n",
        "  def forward(self, x):\n",
        "\n",
        "    out = self.fc(x)\n",
        "\n",
        "    return torch.sigmoid(out)"
      ],
      "execution_count": 30,
      "outputs": []
    },
    {
      "cell_type": "markdown",
      "metadata": {
        "id": "Lw01_ONW61rE"
      },
      "source": [
        "#Build Linear Classifier"
      ]
    },
    {
      "cell_type": "code",
      "metadata": {
        "id": "lF2P9AsGY0px"
      },
      "source": [
        "class My_Linear_Classification:\n",
        "\n",
        "  def __init__(self):\n",
        "\n",
        "    pass\n",
        "\n",
        "  def _makeGIF_(self, duration):\n",
        "\n",
        "    fp_in = \"*_plot.png\"\n",
        "    fp_out = \"Learning_Process.gif\"\n",
        "\n",
        "    img, *imgs = [Image.open(f) for f in sorted(glob.glob(fp_in))]\n",
        "\n",
        "    img.save(fp=fp_out, format='GIF', append_images=imgs,\n",
        "            save_all=True, duration=duration, loop=0)\n",
        "    \n",
        "  def _savingRule_(self, num):\n",
        "\n",
        "    alphabets = 'abcdefghijklmnopqrstuvwxyz'\n",
        "    numbers = '0123456789'\n",
        "    len_up = len(alphabets) * len(numbers)\n",
        "    len_down = len(numbers)\n",
        "\n",
        "    lft1, num = num // len_up, num % len_up\n",
        "\n",
        "    lft2, lft3 = num // len_down, num % len_down\n",
        "\n",
        "    name = alphabets[lft1] + alphabets[lft2] + numbers[lft3]\n",
        "\n",
        "    return name\n",
        "\n",
        "  def create_dataloader(self, df):\n",
        "\n",
        "    self.df = df\n",
        "\n",
        "    train_df = dataset(self.df)\n",
        "    train_dataloader = DataLoader(train_df, batch_size=len(self.df), shuffle=False)\n",
        "\n",
        "    return train_dataloader\n",
        "\n",
        "  def fit(self, dataloader, epochs, verbos = False):\n",
        "    \n",
        "    self.losses = []\n",
        "    self.whole_params = []\n",
        "\n",
        "    self.model = linear_classification(input_dim = 2)\n",
        "    criterion = nn.BCELoss()\n",
        "    optimizer = torch.optim.SGD(self.model.parameters(), lr = 0.01)\n",
        "\n",
        "    self.model.train()\n",
        "\n",
        "    for ep in range(epochs):\n",
        "\n",
        "      for idx, (data, label) in enumerate(dataloader):\n",
        "\n",
        "        y_pred = self.model(data)\n",
        "        loss = criterion(y_pred, label)\n",
        "\n",
        "        if verbos:\n",
        "\n",
        "          print(f'Loss: {loss}')\n",
        "\n",
        "        self.losses.append(loss.item())\n",
        "        \n",
        "        optimizer.zero_grad()\n",
        "        loss.backward()\n",
        "        optimizer.step()\n",
        "\n",
        "        if ep % 200 == 0 or ep == epochs - 1:\n",
        "\n",
        "          params = []\n",
        "\n",
        "          for param in self.model.parameters():\n",
        "\n",
        "            params.append(param)\n",
        "\n",
        "          weights = params[0][0]\n",
        "          bias = params[1].item()\n",
        "          w0 = weights[0].item()\n",
        "          w1 = weights[1].item()\n",
        "\n",
        "          self.whole_params.append((bias, w0, w1))\n",
        "\n",
        "    self.params = {'w0':w0, 'w1':w1, 'b':bias}\n",
        "\n",
        "    for i in range(len(self.whole_params)):\n",
        "\n",
        "      epoch_th = 200 * i if i < len(self.whole_params) - 1 else epochs\n",
        "\n",
        "      bias_, w0_, w1_ = self.whole_params[i]\n",
        "\n",
        "      self.line = {'slope':-w0_/w1_, 'intercept':-bias_/w1_}\n",
        "\n",
        "      line = lambda x : (-w0_/w1_)*x + (-bias_/w1_)\n",
        "\n",
        "      self.df['y_line'] = None\n",
        "\n",
        "      for idx in range(len(self.df)):\n",
        "\n",
        "        self.df.iloc[idx, -1] = line(self.df.iloc[idx, 0])\n",
        "\n",
        "      fig = plt.figure(figsize = (12, 8))\n",
        "      sns.set_theme()\n",
        "      sns.scatterplot(data=self.df, x=self.df.columns[0], y=self.df.columns[1], hue = self.df.columns[-2])\n",
        "      sns.lineplot(data=self.df, x=self.df.columns[0], y=self.df.columns[-1], color = \"green\")\n",
        "      plt.xlabel(self.df.columns[0])\n",
        "      plt.ylabel(self.df.columns[1])\n",
        "      plt.title(f\"After {epoch_th} epochs\")\n",
        "      m = \"%.2f\"%(self.line['slope'])\n",
        "      h = \"%.2f\"%(self.line['intercept'])\n",
        "      plt.legend([f\"Y = {m}X + {h}\", 1.0, 0.0],loc = 'best')\n",
        "      plt.savefig(f'{self._savingRule_(i)}_plot.png')\n",
        "      plt.close(fig)\n",
        "\n",
        "    self.df.drop(['y_line'], axis = 1, inplace = True)\n",
        "\n",
        "    self._makeGIF_(duration = 300)\n",
        "\n",
        "    os.system(\"rm -rf *_plot.png\")"
      ],
      "execution_count": 31,
      "outputs": []
    },
    {
      "cell_type": "markdown",
      "metadata": {
        "id": "0hBwjKQj6_jE"
      },
      "source": [
        "#Test"
      ]
    },
    {
      "cell_type": "code",
      "metadata": {
        "id": "l602rfSL7GGZ",
        "colab": {
          "base_uri": "https://localhost:8080/",
          "height": 285
        },
        "outputId": "dc6100bd-b4f7-414a-b4fd-4432c690b236"
      },
      "source": [
        "df = pd.DataFrame(None)\n",
        "\n",
        "df['feature1'] = np.array([i for i in range(1, 9)])\n",
        "df['feature2'] = np.array([1., 2.5, 2., 4., 3., 1.5, 2., 3])\n",
        "df['target'] = np.array([1., 0., 1., 0., 0., 0., 1.0, 1.0])\n",
        "\n",
        "plt.figure(figsize = (6, 4))\n",
        "sns.set_theme()\n",
        "\n",
        "sns.scatterplot(data=df, x=df.columns[0], y=df.columns[1], hue = df.columns[-1])\n",
        "\n",
        "plt.xlabel(df.columns[0])\n",
        "plt.ylabel(df.columns[1])\n",
        "\n",
        "plt.show()"
      ],
      "execution_count": 34,
      "outputs": [
        {
          "output_type": "display_data",
          "data": {
            "image/png": "[encoded data removed]",
            "text/plain": [
              "<Figure size 432x288 with 1 Axes>"
            ]
          },
          "metadata": {}
        }
      ]
    },
    {
      "cell_type": "code",
      "metadata": {
        "id": "Me5savJbZovl"
      },
      "source": [
        "cls = My_Linear_Classification()\n",
        "\n",
        "dataloader = cls.create_dataloader(df = df)\n",
        "cls.fit(dataloader = dataloader, epochs = 17000)"
      ],
      "execution_count": 35,
      "outputs": []
    }
  ]
}